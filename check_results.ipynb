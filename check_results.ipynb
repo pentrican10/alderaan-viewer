{
 "cells": [
  {
   "cell_type": "code",
   "execution_count": 1,
   "id": "e3b9b6bb",
   "metadata": {},
   "outputs": [],
   "source": [
    "import os\n",
    "import sys\n",
    "import glob\n",
    "import shutil\n",
    "import warnings\n",
    "from datetime import datetime\n",
    "from timeit import default_timer as timer"
   ]
  },
  {
   "cell_type": "code",
   "execution_count": 2,
   "id": "728a249a",
   "metadata": {},
   "outputs": [
    {
     "ename": "ModuleNotFoundError",
     "evalue": "No module named 'pymc3'",
     "output_type": "error",
     "traceback": [
      "\u001b[0;31m---------------------------------------------------------------------------\u001b[0m",
      "\u001b[0;31mModuleNotFoundError\u001b[0m                       Traceback (most recent call last)",
      "Cell \u001b[0;32mIn[2], line 8\u001b[0m\n\u001b[1;32m      5\u001b[0m CATALOG     \u001b[38;5;241m=\u001b[39m os\u001b[38;5;241m.\u001b[39mpath\u001b[38;5;241m.\u001b[39mjoin(PROJECT_DIR, \u001b[38;5;124m'\u001b[39m\u001b[38;5;124mSimulations/\u001b[39m\u001b[38;5;132;01m{0}\u001b[39;00m\u001b[38;5;124m/\u001b[39m\u001b[38;5;132;01m{0}\u001b[39;00m\u001b[38;5;124m.csv\u001b[39m\u001b[38;5;124m'\u001b[39m\u001b[38;5;241m.\u001b[39mformat(RUN_ID))\n\u001b[1;32m      7\u001b[0m sys\u001b[38;5;241m.\u001b[39mpath\u001b[38;5;241m.\u001b[39mappend(PROJECT_DIR)\n\u001b[0;32m----> 8\u001b[0m \u001b[38;5;28;01mfrom\u001b[39;00m \u001b[38;5;21;01malderaan\u001b[39;00m\u001b[38;5;21;01m.\u001b[39;00m\u001b[38;5;21;01mResults\u001b[39;00m \u001b[38;5;28;01mimport\u001b[39;00m Results\n\u001b[1;32m     10\u001b[0m \u001b[38;5;28;01mimport\u001b[39;00m \u001b[38;5;21;01mpandas\u001b[39;00m \u001b[38;5;28;01mas\u001b[39;00m \u001b[38;5;21;01mpd\u001b[39;00m\n\u001b[1;32m     11\u001b[0m \u001b[38;5;28;01mimport\u001b[39;00m \u001b[38;5;21;01mnumpy\u001b[39;00m \u001b[38;5;28;01mas\u001b[39;00m \u001b[38;5;21;01mnp\u001b[39;00m\n",
      "File \u001b[0;32m~/projects/alderaan/alderaan/__init__.py:7\u001b[0m\n\u001b[1;32m      5\u001b[0m \u001b[38;5;28;01mfrom\u001b[39;00m \u001b[38;5;21;01m.\u001b[39;00m\u001b[38;5;21;01mversion\u001b[39;00m \u001b[38;5;28;01mimport\u001b[39;00m __version__\n\u001b[1;32m      6\u001b[0m \u001b[38;5;28;01mfrom\u001b[39;00m \u001b[38;5;21;01m.\u001b[39;00m\u001b[38;5;21;01mconstants\u001b[39;00m \u001b[38;5;28;01mimport\u001b[39;00m \u001b[38;5;241m*\u001b[39m\n\u001b[0;32m----> 7\u001b[0m \u001b[38;5;28;01mfrom\u001b[39;00m \u001b[38;5;21;01m.\u001b[39;00m\u001b[38;5;21;01mdetrend\u001b[39;00m \u001b[38;5;28;01mimport\u001b[39;00m \u001b[38;5;241m*\u001b[39m\n\u001b[1;32m      8\u001b[0m \u001b[38;5;28;01mfrom\u001b[39;00m \u001b[38;5;21;01m.\u001b[39;00m\u001b[38;5;21;01mio\u001b[39;00m \u001b[38;5;28;01mimport\u001b[39;00m \u001b[38;5;241m*\u001b[39m\n\u001b[1;32m      9\u001b[0m \u001b[38;5;28;01mfrom\u001b[39;00m \u001b[38;5;21;01m.\u001b[39;00m\u001b[38;5;21;01mLiteCurve\u001b[39;00m \u001b[38;5;28;01mimport\u001b[39;00m \u001b[38;5;241m*\u001b[39m\n",
      "File \u001b[0;32m~/projects/alderaan/alderaan/detrend.py:10\u001b[0m\n\u001b[1;32m      7\u001b[0m \u001b[38;5;28;01mfrom\u001b[39;00m   \u001b[38;5;21;01mscipy\u001b[39;00m\u001b[38;5;21;01m.\u001b[39;00m\u001b[38;5;21;01minterpolate\u001b[39;00m \u001b[38;5;28;01mimport\u001b[39;00m interp1d\n\u001b[1;32m      8\u001b[0m \u001b[38;5;28;01mimport\u001b[39;00m \u001b[38;5;21;01mwarnings\u001b[39;00m\n\u001b[0;32m---> 10\u001b[0m \u001b[38;5;28;01mimport\u001b[39;00m \u001b[38;5;21;01mpymc3\u001b[39;00m \u001b[38;5;28;01mas\u001b[39;00m \u001b[38;5;21;01mpm\u001b[39;00m\n\u001b[1;32m     11\u001b[0m \u001b[38;5;28;01mimport\u001b[39;00m \u001b[38;5;21;01mpymc3_ext\u001b[39;00m \u001b[38;5;28;01mas\u001b[39;00m \u001b[38;5;21;01mpmx\u001b[39;00m\n\u001b[1;32m     12\u001b[0m \u001b[38;5;28;01mimport\u001b[39;00m \u001b[38;5;21;01mexoplanet\u001b[39;00m \u001b[38;5;28;01mas\u001b[39;00m \u001b[38;5;21;01mexo\u001b[39;00m\n",
      "\u001b[0;31mModuleNotFoundError\u001b[0m: No module named 'pymc3'"
     ]
    }
   ],
   "source": [
    "RUN_ID = '2023-05-19_singles'\n",
    "\n",
    "PROJECT_DIR = '/Users/research/projects/alderaan/'\n",
    "RESULTS_DIR = os.path.join(PROJECT_DIR, 'Results/{0}/'.format(RUN_ID))\n",
    "CATALOG     = os.path.join(PROJECT_DIR, 'Simulations/{0}/{0}.csv'.format(RUN_ID))\n",
    "\n",
    "sys.path.append(PROJECT_DIR)\n",
    "from alderaan.Results import Results\n",
    "\n",
    "import pandas as pd\n",
    "import numpy as np\n",
    "import matplotlib.pyplot as plt"
   ]
  },
  {
   "cell_type": "code",
   "execution_count": null,
   "id": "8fd64f07",
   "metadata": {},
   "outputs": [],
   "source": [
    "truth = pd.read_csv(CATALOG)"
   ]
  },
  {
   "cell_type": "code",
   "execution_count": null,
   "id": "e8b4d546",
   "metadata": {},
   "outputs": [],
   "source": [
    "targets = glob.glob(RESULTS_DIR + '*')\n",
    "targets.sort()\n",
    "\n",
    "for i, t in enumerate(targets):\n",
    "    targets[i] = t[-6:]"
   ]
  },
  {
   "cell_type": "code",
   "execution_count": null,
   "id": "8765cf60",
   "metadata": {},
   "outputs": [],
   "source": [
    "results = []\n",
    "ttv_type = []\n",
    "\n",
    "for i, t in enumerate(targets):\n",
    "    try:\n",
    "        results.append(Results(t, RESULTS_DIR))\n",
    "        \n",
    "        use = np.array(truth.koi_id == 'K'+t[1:])\n",
    "        npl = np.sum(use)\n",
    "        for n in range(npl):\n",
    "            ttv_type.append(np.array(truth[use].ttv_type)[n])\n",
    "    except:\n",
    "        pass"
   ]
  },
  {
   "cell_type": "code",
   "execution_count": null,
   "id": "4ff1465a",
   "metadata": {},
   "outputs": [],
   "source": [
    "keys = 'koi ror b T14'.split()\n",
    "simulated = {}\n",
    "posterior = {}\n",
    "\n",
    "for k in keys:\n",
    "    simulated[k] = []\n",
    "    posterior[k] = []\n",
    "    if k != 'koi':\n",
    "        posterior[k+'_err'] = []\n",
    "\n",
    "for i, r in enumerate(results):\n",
    "    koi = 'K' + r.target[1:]\n",
    "    use = truth.koi_id == koi\n",
    "    npl = np.sum(use)\n",
    "    \n",
    "    for n in range(npl):\n",
    "        simulated['koi'].append(np.array(truth[use].koi_id)[n])\n",
    "        simulated['ror'].append(np.array(truth[use].ror)[n])\n",
    "        simulated['b'].append(np.array(truth[use].impact)[n])\n",
    "        simulated['T14'].append(np.array(truth[use].duration)[n])\n",
    "\n",
    "        posterior['ror'].append(r.summary()['median']['ROR_{0}'.format(n)])\n",
    "        posterior['b'].append(r.summary()['median']['IMPACT_{0}'.format(n)])\n",
    "        posterior['T14'].append(r.summary()['median']['DUR14_{0}'.format(n)])\n",
    "        \n",
    "        posterior['ror_err'].append(r.summary()['stdev']['ROR_{0}'.format(n)])\n",
    "        posterior['b_err'].append(r.summary()['stdev']['IMPACT_{0}'.format(n)])\n",
    "        posterior['T14_err'].append(r.summary()['stdev']['DUR14_{0}'.format(n)])\n",
    "        \n",
    "for sk in simulated.keys():\n",
    "    simulated[sk] = np.array(simulated[sk])\n",
    "    \n",
    "for pk in posterior.keys():\n",
    "    posterior[pk] = np.array(posterior[pk])"
   ]
  },
  {
   "cell_type": "code",
   "execution_count": null,
   "id": "faf75d98",
   "metadata": {},
   "outputs": [],
   "source": [
    "for k in keys:\n",
    "    if k != 'koi':\n",
    "        \n",
    "        rel_err = (posterior[k]-simulated[k])/posterior[k+'_err']\n",
    "        bad = (np.array(ttv_type) == 'gaussian')\n",
    "        \n",
    "        fig, ax = plt.subplots(1,2, figsize=(12,5))\n",
    "        ax[0].errorbar(simulated[k], posterior[k], yerr=posterior[k+'_err'], fmt='k.')\n",
    "        ax[0].errorbar(simulated[k][bad], posterior[k][bad], yerr=posterior[k+'_err'][bad], fmt='r.')        \n",
    "        ax[0].set_title(k, fontsize=24)\n",
    "        ax[0].set_xlabel('Truth', fontsize=20)\n",
    "        ax[0].set_ylabel('Posterior', fontsize=20)\n",
    "        ax[1].hist(rel_err[~bad], bins=np.arange(-4.5,5.,0.5))\n",
    "        ax[1].set_title('Relative error', fontsize=20)\n",
    "        plt.show()"
   ]
  },
  {
   "cell_type": "code",
   "execution_count": null,
   "id": "fc47caea",
   "metadata": {},
   "outputs": [],
   "source": []
  },
  {
   "cell_type": "code",
   "execution_count": null,
   "id": "3b280d8a",
   "metadata": {},
   "outputs": [],
   "source": []
  },
  {
   "cell_type": "code",
   "execution_count": null,
   "id": "f8b1904e",
   "metadata": {},
   "outputs": [],
   "source": []
  },
  {
   "cell_type": "code",
   "execution_count": null,
   "id": "c53a3f92",
   "metadata": {
    "scrolled": false
   },
   "outputs": [],
   "source": [
    "for i, r in enumerate(results):\n",
    "    print(r.target)    \n",
    "    r.plot_omc(show_outliers=True)"
   ]
  },
  {
   "cell_type": "code",
   "execution_count": null,
   "id": "a337ebff",
   "metadata": {},
   "outputs": [],
   "source": []
  }
 ],
 "metadata": {
  "kernelspec": {
   "display_name": "Python 3 (ipykernel)",
   "language": "python",
   "name": "python3"
  },
  "language_info": {
   "codemirror_mode": {
    "name": "ipython",
    "version": 3
   },
   "file_extension": ".py",
   "mimetype": "text/x-python",
   "name": "python",
   "nbconvert_exporter": "python",
   "pygments_lexer": "ipython3",
   "version": "3.10.9"
  }
 },
 "nbformat": 4,
 "nbformat_minor": 5
}
